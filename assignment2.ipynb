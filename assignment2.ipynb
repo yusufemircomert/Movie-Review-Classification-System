{
 "cells": [
  {
   "cell_type": "markdown",
   "metadata": {},
   "source": [
    "Fall 2024\\\n",
    "AIN313: Machine Learning Lab.\\\n",
    "Assignment 2\n",
    "\n",
    "Name: Yusuf Emir \\\n",
    "Surname: Cömert \\\n",
    "Number: 2220765023"
   ]
  },
  {
   "cell_type": "markdown",
   "metadata": {},
   "source": [
    "Dataset: https://ai.stanford.edu/%7Eamaas/data/sentiment/"
   ]
  },
  {
   "cell_type": "markdown",
   "metadata": {},
   "source": [
    "\n",
    "<div style=\"font-size: 40px; color: white;\">\n",
    "    <ul>\n",
    "        PART I: Theory Questions \n",
    "</div>"
   ]
  },
  {
   "cell_type": "markdown",
   "metadata": {},
   "source": [
    "<div style=\"font-size: 20px; color: white;\">\n",
    "    <ul>\n",
    "        Bayes Theorem Formula:\n",
    "        \n",
    "        P(A|B) = P(B|A).P(A) / P(B)\n",
    "</div>"
   ]
  },
  {
   "cell_type": "markdown",
   "metadata": {},
   "source": [
    "**QUESTION 1:** One of the workers in an emergency call center is charged with calculating priorities\n",
    "of the cases that is reported to the department. He/She determines the priority of\n",
    "the case according to the probabilities, higher probability the case has, higher priority\n",
    "it has. Three phone calls arrive at the same time interval and all of the callers are\n",
    "calling from different neighborhoods but about the same topic: There is a smoke in their\n",
    "neighborhood and they are worried if the smoke caused due to a dangerous fire but they\n",
    "are too scared to observe the case from a nearby spot. The statistics are as follows,\n",
    "sort the cases according to their priority. Do not forget to make explanations\n",
    "about your approach.\n",
    "\n",
    "• The statistics show you that probability of the dangerous fires at the first neighborhood is rare (1%), however, barbecue smoke is quite common (20%), moreover\n",
    "smoke occurs 80% of the dangerous fires.\\\n",
    "• The statistics show you that probability of the dangerous fires at the second\n",
    "neighborhood is common (35%) and smoke due to factory near that neighborhood\n",
    "is quite rare (10%), moreover, smoke occurs 1% of the dangerous fires.\\\n",
    "• The statistics show you that probability of the dangerous fires at the third neighborhood is seldom (10%), however smoke due to usage of coal instead of natural\n",
    "gas is very common (80%), moreover, smoke occurs 30% of the dangerous fires.\n",
    "\n",
    "**Q 1.1**"
   ]
  },
  {
   "cell_type": "markdown",
   "metadata": {},
   "source": [
    "<div style=\"font-size: 20px; color: white;\">\n",
    "    <ul>\n",
    "        <li>The statistics show you that probability of the dangerous fires at the first neighborhood is rare (1%), however, barbecue smoke is quite common (20%), moreover\n",
    "smoke occurs 80% of the dangerous fires.\n",
    "</div>"
   ]
  },
  {
   "cell_type": "markdown",
   "metadata": {},
   "source": [
    "**SOLUTION Q1.1:**\n",
    "\n",
    "We have this informations given:\\\n",
    "P(Fire) = P(F) =0.01\\\n",
    "P(BQ) = P(Smoke|Fire') = P(S|F') = 0.2\\\n",
    "P(Smoke|Fire) = P(S|F) = 0.8\n",
    "\n",
    "We need to find the probability that when we see smoke, there is a fire which is:\\\n",
    "P(Fire|Smoke) = P(F|S) = ??\n",
    "\n",
    "To find the asked probability, we apply Baye's Theorem which is:\n",
    "\n",
    "P(F|S) = P(S|F) . P(F) / P(S) \n",
    "\n",
    "The only thing we did not know is P(S) probability so lets calculate it.\n",
    "\n",
    "P(S)=P(S∣F) . P(F) + P(S∣F') . P(F')\\\n",
    "P(S) = 0.8 . 0.01 + 0.2 . 0.99 = 0.206\n",
    "\n",
    "Now we have the information about the probabity of Smoke, which means we can apply bayes theorem I wrote above:\n",
    "\n",
    "P(F|S) = P(S|F) . P(F) / P(S)\\\n",
    "P(F|S) = 0.8 . 0.01 / 0.206\\\n",
    "P(F|S) = 0.038834.... ≈ 0.0388 = %3.88\n",
    "\n",
    "**ANSWER Q1.1:**"
   ]
  },
  {
   "cell_type": "markdown",
   "metadata": {},
   "source": [
    "<div style=\"font-size: 20px; color: white;\">\n",
    "    <ul>\n",
    "        P(F|S) = %3.88 !!\n",
    "</div>"
   ]
  },
  {
   "cell_type": "markdown",
   "metadata": {},
   "source": [
    "**Q1.2**"
   ]
  },
  {
   "cell_type": "markdown",
   "metadata": {},
   "source": [
    "<div style=\"font-size: 20px; color: white;\">\n",
    "    <ul>\n",
    "        <li> The statistics show you that probability of the dangerous fires at the second\n",
    "neighborhood is common (35%) and smoke due to factory near that neighborhood\n",
    "is quite rare (10%), moreover, smoke occurs 1% of the dangerous fires.\n",
    "</div>"
   ]
  },
  {
   "cell_type": "markdown",
   "metadata": {},
   "source": [
    "**SOLUTION Q1.2:**\n",
    "\n",
    "Given Probabilities:\n",
    "\n",
    "P(F) = 0.35\\\n",
    "P(S|F') = 0.1\\\n",
    "P(S|F) = 0.01\n",
    "\n",
    "P(F|S) = ??\n",
    "\n",
    "We will apply the same calculations in here. Again, we dont know the probability of smoke occuring so we need to find it and then calculate the Fire probability given smoke using Bayes Theorem:\n",
    "\n",
    "P(S) = P(S∣F) . P(F) + P(S∣F') . P(F')\\\n",
    "P(S) = 0.01 . 0.35 + 0.1 . 0.65 = 0.0685\n",
    "\n",
    "P(S) = 0.0685 !!\n",
    "\n",
    "Bayes Theorem:\n",
    "\n",
    "P(F|S) = P(S|F) . P(F) / P(S)\\\n",
    "P(F|S) = 0.01 . 0.35 / 0.0685 ≈ 0.0511 = %5.11\n",
    "\n",
    "**ANSWER Q1.2:**"
   ]
  },
  {
   "cell_type": "markdown",
   "metadata": {},
   "source": [
    "<div style=\"font-size: 20px; color: white;\">\n",
    "    <ul>\n",
    "        P(F|S) = %5.11 !!\n",
    "</div>"
   ]
  },
  {
   "cell_type": "markdown",
   "metadata": {},
   "source": [
    "**Q1.3**"
   ]
  },
  {
   "cell_type": "markdown",
   "metadata": {},
   "source": [
    "<div style=\"font-size: 20px; color: white;\">\n",
    "    <ul>\n",
    "        <Li>The statistics show you that probability of the dangerous fires at the third neighborhood is seldom (10%), however smoke due to usage of coal instead of natural\n",
    "gas is very common (80%), moreover, smoke occurs 30% of the dangerous fires.\n",
    "</div>"
   ]
  },
  {
   "cell_type": "markdown",
   "metadata": {},
   "source": [
    "Given Probabilities:\n",
    "\n",
    "P(F) = 0.1\\\n",
    "P(S|F') = 0.8\\\n",
    "P(S|F) = 0.3\n",
    "\n",
    "P(F|S) = ??\n",
    "\n",
    "We will apply the same calculations in here. Again, we dont know the probability of smoke occuring so we need to find it and then calculate the Fire probability given smoke using Bayes Theorem:\n",
    "\n",
    "P(S) = P(S∣F) . P(F) + P(S∣F') . P(F')\\\n",
    "P(S) =  0.3  .  0.1 +  0.8  .  0.9 \n",
    "\n",
    "P(S) = 0.75\n",
    "\n",
    "Bayes Theorem:\n",
    "\n",
    "P(F|S) = P(S|F) . P(F) / P(S)\\\n",
    "P(F|S) =  0.3  .  0.1 / 0.75 = 0.04 = %4\n",
    "\n",
    "**ANSWER Q1.3:**"
   ]
  },
  {
   "cell_type": "markdown",
   "metadata": {},
   "source": [
    "<div style=\"font-size: 20px; color: white;\">\n",
    "    <ul>\n",
    "        P(F|S) = %4 !!\n",
    "</div>"
   ]
  },
  {
   "cell_type": "markdown",
   "metadata": {},
   "source": [
    "<div style=\"font-size: 25px; color: white;\">\n",
    "    <ul>\n",
    "        Conclusion For Question 1:\n",
    "\n",
    "</div>"
   ]
  },
  {
   "cell_type": "markdown",
   "metadata": {},
   "source": [
    "<div style=\"font-size: 20px; color: white;\">\n",
    "    <ul>\n",
    "        The order of prioraties are as follows: Second Neighborhood(%5) > Third N.(%4) > First N.(%3.88)<br>\n",
    "        So, the call center must report those calls to that order.\n",
    "</div>"
   ]
  },
  {
   "cell_type": "markdown",
   "metadata": {},
   "source": [
    "**QUESTION 2:** \n",
    "There are two boxes, the first one contains 5 red and 3 blue balls while the second\n",
    "one contains 7 red and 4 blue balls. One of the boxes is selected with a bias, where\n",
    "probability of selecting the first box is 40%, and a ball is drawn from the selected box.\n",
    "Calculate the following with explanations:\n",
    "\n",
    "• The probability of blue ball is drawn.\n",
    "\n",
    "• The probability of second box has been selected if it is known that the blue ball\n",
    "is drawn.\n",
    "\n",
    "\n",
    "**ANSWER Q2.1:**\n",
    "\n",
    "1.Probability of Drawing a Blue Ball\n",
    "\n",
    "Given informations:\\\n",
    "Box 1: 5 red balls and 3 blue balls. P(Box1) = 0.4\n",
    "\n",
    "Box 2: 7 red balls and 4 blue balls. P(Box2) = 0.6\n",
    "\n",
    "We can basically say that from given informations:\n",
    "\n",
    "P(Blue|Box1) = 3/8\\\n",
    "P(Blue|Box2) = 4/11\n",
    "\n",
    "Lets find out the probability of drawing blue ball:\n",
    "\n",
    "P(Blue) = P(Blue∣Box 1) . P(Box 1) + P(Blue∣Box 2) . P(Box 2) which is\\\n",
    "P(Blue) =  3/8  .  0.4  +  4/11  .  0.6 = 0.3682\n",
    "\n",
    "**P(Blue) = %36.82**\n",
    "\n",
    "**ANSWER Q2.2:**\n",
    "\n",
    "2.Probability that the Second Box Was Selected Given a Blue Ball Was Drawn\n",
    "\n",
    "Now, we want to calculate 𝑃(Box 2∣Blue) , the probability that the second box was selected given that a blue ball was drawn. To find this, we can use Bayes' theorem:\n",
    "\n",
    "P(Box 2|Blue) = P(Blue|Box 2) . P(Box 2) / P(Blue)\n",
    "\n",
    "We have already calculated each component:\n",
    "\n",
    "P(Blue∣Box 2)= 4/11\\\n",
    "P(Box 2)=0.6\\\n",
    "P(Blue)=0.3682\n",
    "\n",
    "So Calculating the probability of P(Box 2|Blue):\\\n",
    "P(Box 2|Blue) = 4/11 . 0.6 / 0.3682 ≈ 0.5925\n",
    "\n",
    "**P(Box 2|Blue) = %59.25**"
   ]
  },
  {
   "cell_type": "markdown",
   "metadata": {},
   "source": [
    "**QUESTION 3 WITH ANSWERS:**\n",
    "\n",
    "Fill the blanks with T (True) or F (False) for the statements below, do not forget to\n",
    "make explanations:\n",
    "\n",
    "**Q3.1** • Text classification is the primary application for Naïve Bayes classifier methods. (T)\n",
    "\n",
    "True, we mostly use Naive Bayes for text classification, sentiment analysis and spam detection problems. It is because naive bayes can handle many features effectively because of its independently multiplies probabilities for each feature. Moreover it can be used effectively even with relatively small amounts of training data, making it well-suited for many text-related applications.\n",
    "\n",
    "**Q3.2** • When an attribute value in the testing record has no example in the training set,\n",
    "the total posterior probability in a Naïve Bayes algorithm will be zero. (T)\n",
    "\n",
    "True, In the Naïve Bayes algorithm if an attribute appears at test stage but not in the training part, its probability estimate will be zero for that class.\n",
    "As I said at the above, Naive bayes algorithm multiplies probabilities for each feature independently, having a zero probability for one feature results in the entire posterior probability being zero so if that test data was spam, we may not classify it as spam. To solve this problem, we are usually using Laplace smoothing which assigns a small non-zero probability to unseen events to prevent the total probability from being zero."
   ]
  },
  {
   "cell_type": "markdown",
   "metadata": {},
   "source": [
    "<div style=\"font-size: 40px; color: white;\">\n",
    "    <ul>\n",
    "        PART II: Movie Review Classification System\n",
    "</div>"
   ]
  },
  {
   "cell_type": "markdown",
   "metadata": {},
   "source": [
    "<div style=\"font-size: 20px; color: white;\">\n",
    "    <ul>\n",
    "        Let's start with importing necessary libraries.\n",
    "</div>"
   ]
  },
  {
   "cell_type": "code",
   "execution_count": 86,
   "metadata": {},
   "outputs": [],
   "source": [
    "import re\n",
    "import matplotlib.pyplot as plt\n",
    "import seaborn as sns\n",
    "import pandas as pd\n",
    "import math\n",
    "import numpy as np\n",
    "import os"
   ]
  },
  {
   "cell_type": "markdown",
   "metadata": {},
   "source": [
    "<div style=\"font-size: 20px; color: white;\">\n",
    "    <ul>\n",
    "        First, created this function for extracting the review texts and the ratings.<br>\n",
    "        Returned it with list format for basic usage.\n",
    "</div>"
   ]
  },
  {
   "cell_type": "code",
   "execution_count": 87,
   "metadata": {},
   "outputs": [],
   "source": [
    "def load_reviews(folder_path):\n",
    "    texts = []\n",
    "    ratings = []\n",
    "    rating_pattern = re.compile(r\"_([0-9]+)\\.txt$\")  # Regex to extract rating from filename\n",
    "\n",
    "    # Iterate through files in the folder\n",
    "    for root, _, files in os.walk(folder_path):\n",
    "        for filename in files:\n",
    "            if filename.endswith('.txt'):\n",
    "                # Read the file\n",
    "                with open(os.path.join(root, filename), 'r', encoding='utf-8') as file:\n",
    "                    text = file.read()\n",
    "                    texts.append(text)\n",
    "\n",
    "                    # Extract rating from filename\n",
    "                    match = rating_pattern.search(filename)\n",
    "                    if match:\n",
    "                        rating = int(match.group(1))  # Convert rating to integer\n",
    "                        ratings.append(rating)\n",
    "\n",
    "    return texts, ratings"
   ]
  },
  {
   "cell_type": "markdown",
   "metadata": {},
   "source": [
    "<div style=\"font-size: 20px; color: white;\">\n",
    "    <ul>\n",
    "        Here, it is time to use the \"load_reviews\" function to extract the data and record it into the lists.<br>\n",
    "        train_pos_texts holds positive reviews, train_pos_ratings holds positive ratings for train data and so on...\n",
    "\n",
    "</div>"
   ]
  },
  {
   "cell_type": "code",
   "execution_count": 88,
   "metadata": {},
   "outputs": [],
   "source": [
    "train_pos_texts, train_pos_ratings = load_reviews('train/pos')\n",
    "train_neg_texts, train_neg_ratings = load_reviews('train/neg')"
   ]
  },
  {
   "cell_type": "code",
   "execution_count": 89,
   "metadata": {},
   "outputs": [],
   "source": [
    "test_pos_texts, test_pos_ratings = load_reviews('test/pos')\n",
    "test_neg_texts, test_neg_ratings = load_reviews('test/neg')"
   ]
  },
  {
   "cell_type": "markdown",
   "metadata": {},
   "source": [
    "<div style=\"font-size: 20px; color: white;\">\n",
    "    <ul>\n",
    "        Checked that if the reviews and ratings are succesfully applied.\n",
    "</div>"
   ]
  },
  {
   "cell_type": "code",
   "execution_count": 90,
   "metadata": {},
   "outputs": [
    {
     "name": "stdout",
     "output_type": "stream",
     "text": [
      "12500\n",
      "12500\n",
      "12500\n",
      "12500\n",
      "\n",
      "Bromwell High is a cartoon comedy. It ran at the same time as some other programs about school life, such as \"Teachers\". My 35 years in the teaching profession lead me to believe that Bromwell High's satire is much closer to reality than is \"Teachers\". The scramble to survive financially, the insightful students who can see right through their pathetic teachers' pomp, the pettiness of the whole situation, all remind me of the schools I knew and their students. When I saw the episode in which a student repeatedly tried to burn down the school, I immediately recalled ......... at .......... High. A classic line: INSPECTOR: I'm here to sack one of your teachers. STUDENT: Welcome to Bromwell High. I expect that many adults of my age think that Bromwell High is far fetched. What a pity that it isn't!\n",
      "Rating:  9\n"
     ]
    }
   ],
   "source": [
    "print(len(train_pos_ratings))\n",
    "print(len(train_neg_ratings))\n",
    "print(len(test_pos_ratings))\n",
    "print(len(test_pos_ratings))\n",
    "print()\n",
    "print(train_pos_texts[0])\n",
    "print(\"Rating: \",train_pos_ratings[0])"
   ]
  },
  {
   "cell_type": "markdown",
   "metadata": {},
   "source": [
    "<div style=\"font-size: 20px; color: white;\">\n",
    "    <ul>\n",
    "        It seems like it is working. Also printed out the first review with it's rating so we can see it is working.<br>\n",
    "        I couldn't figure out that the order of the reviews are not same as the tar file but I continued because of it wouldn't be any problem.\n",
    "</div>"
   ]
  },
  {
   "cell_type": "markdown",
   "metadata": {},
   "source": [
    "<div style=\"font-size: 20px; color: white;\">\n",
    "    <ul>\n",
    "        Checked that if the reviews and ratings are succesfully applied.\n",
    "</div>"
   ]
  },
  {
   "cell_type": "markdown",
   "metadata": {},
   "source": [
    "<div style=\"font-size: 20px; color: white;\">\n",
    "    <ul>\n",
    "        Combine the positive and negative texts for each test and train part and Created the test_data and train_data. Also created data for holding whole data.\n",
    "</div>"
   ]
  },
  {
   "cell_type": "code",
   "execution_count": 91,
   "metadata": {},
   "outputs": [
    {
     "data": {
      "text/plain": [
       "<bound method NDFrame.head of                                                   Review  Rating\n",
       "0      Bromwell High is a cartoon comedy. It ran at t...       9\n",
       "1      Homelessness (or Houselessness as George Carli...       8\n",
       "2      Brilliant over-acting by Lesley Ann Warren. Be...      10\n",
       "3      This is easily the most underrated film inn th...       7\n",
       "4      This is not the typical Mel Brooks film. It wa...       8\n",
       "...                                                  ...     ...\n",
       "24995  Towards the end of the movie, I felt it was to...       4\n",
       "24996  This is the kind of movie that my enemies cont...       3\n",
       "24997  I saw 'Descent' last night at the Stockholm Fi...       3\n",
       "24998  Some films that you pick up for a pound turn o...       1\n",
       "24999  This is one of the dumbest films, I've ever se...       1\n",
       "\n",
       "[25000 rows x 2 columns]>"
      ]
     },
     "execution_count": 91,
     "metadata": {},
     "output_type": "execute_result"
    }
   ],
   "source": [
    "train_texts = train_pos_texts + train_neg_texts \n",
    "train_ratings = train_pos_ratings + train_neg_ratings\n",
    "\n",
    "test_texts = test_pos_texts + test_neg_texts\n",
    "test_ratings = test_pos_ratings + test_neg_ratings\n",
    "\n",
    "texts = train_texts + test_texts\n",
    "ratings = train_ratings + test_ratings\n",
    "\n",
    "train_data = pd.DataFrame({'Review': train_texts, 'Rating': train_ratings})\n",
    "test_data = pd.DataFrame({'Review': test_texts, 'Rating': test_ratings})\n",
    "data = pd.DataFrame({'Review': texts, 'Rating': ratings})\n",
    "\n",
    "train_data.head"
   ]
  },
  {
   "cell_type": "markdown",
   "metadata": {},
   "source": [
    "<div style=\"font-size: 20px; color: white;\">\n",
    "    <ul>\n",
    "        Checked the distribution differences between test and train data.\n",
    "</div>"
   ]
  },
  {
   "cell_type": "code",
   "execution_count": 92,
   "metadata": {},
   "outputs": [
    {
     "data": {
      "image/png": "[encoded data removed]",
      "text/plain": [
       "<Figure size 1000x600 with 1 Axes>"
      ]
     },
     "metadata": {},
     "output_type": "display_data"
    }
   ],
   "source": [
    "plt.figure(figsize=(10, 6))\n",
    "sns.countplot(x='Rating', data=train_data)\n",
    "plt.title(\"Distribution of Ratings for Train Data\")\n",
    "plt.xlabel(\"Rating\")\n",
    "plt.ylabel(\"Count\")\n",
    "plt.show()"
   ]
  },
  {
   "cell_type": "code",
   "execution_count": 93,
   "metadata": {},
   "outputs": [
    {
     "data": {
      "image/png": "[encoded data removed]",
      "text/plain": [
       "<Figure size 1000x600 with 1 Axes>"
      ]
     },
     "metadata": {},
     "output_type": "display_data"
    }
   ],
   "source": [
    "plt.figure(figsize=(10, 6))\n",
    "sns.countplot(x='Rating', data=test_data)\n",
    "plt.title(\"Distribution of Ratings for Test Data\")\n",
    "plt.xlabel(\"Rating\")\n",
    "plt.ylabel(\"Count\")\n",
    "plt.show()"
   ]
  },
  {
   "cell_type": "markdown",
   "metadata": {},
   "source": [
    "<div style=\"font-size: 20px; color: white;\">\n",
    "    <ul>\n",
    "        There are small differences of course but it seems like these two data is well distributed. The graphes look really similar.\n",
    "</div>"
   ]
  },
  {
   "cell_type": "markdown",
   "metadata": {},
   "source": [
    "<div style=\"font-size: 20px; color: white;\">\n",
    "    <ul>\n",
    "        Creating the sentiment colum to the data for recording and observing the Positive and Negative situations.<br><br>\n",
    "        Visualizing using countplot for the count of the each sentiment\n",
    "</div"
   ]
  },
  {
   "cell_type": "code",
   "execution_count": 94,
   "metadata": {},
   "outputs": [
    {
     "data": {
      "image/png": "[encoded data removed]",
      "text/plain": [
       "<Figure size 800x500 with 1 Axes>"
      ]
     },
     "metadata": {},
     "output_type": "display_data"
    }
   ],
   "source": [
    "data['Sentiment'] = data['Rating'].apply(lambda x: 'Positive' if x >= 7 else 'Negative')\n",
    "# Plot Sentiment Distribution\n",
    "plt.figure(figsize=(8, 5))\n",
    "sns.countplot(x='Sentiment', data=data)\n",
    "plt.title(\"Sentiment Distribution\")\n",
    "plt.xlabel(\"Sentiment\")\n",
    "plt.ylabel(\"Count\")\n",
    "plt.show()"
   ]
  },
  {
   "cell_type": "markdown",
   "metadata": {},
   "source": [
    "<div style=\"font-size: 20px; color: white;\">\n",
    "    <ul>\n",
    "        Data already said us that it is well distrubuted but no harm to visualize it.\n",
    "</div>"
   ]
  },
  {
   "cell_type": "markdown",
   "metadata": {},
   "source": [
    "<div style=\"font-size: 20px; color: white;\">\n",
    "    <ul>\n",
    "        Visualizing data with review text length.\n",
    "</div>"
   ]
  },
  {
   "cell_type": "code",
   "execution_count": 95,
   "metadata": {},
   "outputs": [
    {
     "data": {
      "image/png": "[encoded data removed]",
      "text/plain": [
       "<Figure size 1000x600 with 1 Axes>"
      ]
     },
     "metadata": {},
     "output_type": "display_data"
    }
   ],
   "source": [
    "# Review Length Distribution\n",
    "data['Review Length'] = data['Review'].apply(lambda x: len(x.split()))\n",
    "plt.figure(figsize=(10, 6))\n",
    "sns.histplot(data['Review Length'], bins=50, kde=True, color='purple')\n",
    "plt.title(\"Distribution of Review Lengths (in words)\")\n",
    "plt.xlabel(\"Review Length (words)\")\n",
    "plt.ylabel(\"Count\")\n",
    "plt.show()"
   ]
  },
  {
   "cell_type": "markdown",
   "metadata": {},
   "source": [
    "<div style=\"font-size: 20px; color: white;\">\n",
    "    <ul>\n",
    "        From looking at the graph, it seems like data reviews are highly intense between at 100-150 words length\n",
    "</div>"
   ]
  },
  {
   "cell_type": "markdown",
   "metadata": {},
   "source": [
    "Before performing Bag Of Words(BoW) method, we need to eliminate the stop words because they are not useful of detecting the text is positive or negative."
   ]
  },
  {
   "cell_type": "code",
   "execution_count": 96,
   "metadata": {},
   "outputs": [],
   "source": [
    "# Got it from a github repo: \"https://github.com/stopwords-iso/stopwords-en/blob/master/stopwords-en.txt\".\n",
    "stop_words = {\n",
    "     \"'ll\",\"'tis\",\"'twas\",\"'ve\",\"10\",\"39\",\"a\",\"a's\",\"able\",\"ableabout\",\"about\",\"above\",\"abroad\",\"abst\",\"accordance\",\"according\",\"accordingly\",\"across\",\"act\",\"actually\",\"ad\",\"added\",\"adj\",\"adopted\",\"ae\",\"af\",\"affected\",\"affecting\",\"affects\",\"after\",\"afterwards\",\"ag\",\"again\",\"against\",\"ago\",\"ah\",\"ahead\",\"ai\",\"ain't\",\"aint\",\"al\",\"all\",\"allow\",\"allows\",\"almost\",\"alone\",\"along\",\"alongside\",\"already\",\"also\",\"although\",\"always\",\"am\",\"amid\",\"amidst\",\"among\",\"amongst\",\"amoungst\",\"amount\",\"an\",\"and\",\"announce\",\"another\",\"any\",\"anybody\",\"anyhow\",\"anymore\",\"anyone\",\"anything\",\"anyway\",\"anyways\",\"anywhere\",\"ao\",\"apart\",\"apparently\",\"appear\",\"appreciate\",\"appropriate\",\"approximately\",\"aq\",\"ar\",\"are\",\"area\",\"areas\",\"aren\",\"aren't\",\"arent\",\"arise\",\"around\",\"arpa\",\"as\",\"aside\",\"ask\",\"asked\",\"asking\",\"asks\",\"associated\",\"at\",\"au\",\"auth\",\"available\",\"aw\",\"away\",\"awfully\",\"az\",\"b\",\"ba\",\"back\",\"backed\",\"backing\",\"backs\",\"backward\",\"backwards\",\"bb\",\"bd\",\"be\",\"became\",\"because\",\"become\",\"becomes\",\"becoming\",\"been\",\"before\",\"beforehand\",\"began\",\"begin\",\"beginning\",\"beginnings\",\"begins\",\"behind\",\"being\",\"beings\",\"believe\",\"below\",\"beside\",\"besides\",\"best\",\"better\",\"between\",\"beyond\",\"bf\",\"bg\",\"bh\",\"bi\",\"big\",\"bill\",\"billion\",\"biol\",\"bj\",\"bm\",\"bn\",\"bo\",\"both\",\"bottom\",\"br\",\"brief\",\"briefly\",\"bs\",\"bt\",\"but\",\"buy\",\"bv\",\"bw\",\"by\",\"bz\",\"c\",\"c'mon\",\"c's\",\"ca\",\"call\",\"came\",\"can\",\"can't\",\"cannot\",\"cant\",\"caption\",\"case\",\"cases\",\"cause\",\"causes\",\"cc\",\"cd\",\"certain\",\"certainly\",\"cf\",\"cg\",\"ch\",\"changes\",\"ci\",\"ck\",\"cl\",\"clear\",\"clearly\",\"click\",\"cm\",\"cmon\",\"cn\",\"co\",\"co.\",\"com\",\"come\",\"comes\",\"computer\",\"con\",\"concerning\",\"consequently\",\"consider\",\"considering\",\"contain\",\"containing\",\"contains\",\"copy\",\"corresponding\",\"could\",\"could've\",\"couldn\",\"couldn't\",\"couldnt\",\"course\",\"cr\",\"cry\",\"cs\",\"cu\",\"currently\",\"cv\",\"cx\",\"cy\",\"cz\",\"d\",\"dare\",\"daren't\",\"darent\",\"date\",\"de\",\"dear\",\"definitely\",\"describe\",\"described\",\"despite\",\"detail\",\"did\",\"didn\",\"didn't\",\"didnt\",\"differ\",\"different\",\"differently\",\"directly\",\"dj\",\"dk\",\"dm\",\"do\",\"does\",\"doesn\",\"doesn't\",\"doesnt\",\"doing\",\"don\",\"don't\",\"done\",\"dont\",\"doubtful\",\"down\",\"downed\",\"downing\",\"downs\",\"downwards\",\"due\",\"during\",\"dz\",\"e\",\"each\",\"early\",\"ec\",\"ed\",\"edu\",\"ee\",\"effect\",\"eg\",\"eh\",\"eight\",\"eighty\",\"either\",\"eleven\",\"else\",\"elsewhere\",\"empty\",\"end\",\"ended\",\"ending\",\"ends\",\"enough\",\"entirely\",\"er\",\"es\",\"especially\",\"et\",\"et-al\",\"etc\",\"even\",\"evenly\",\"ever\",\"evermore\",\"every\",\"everybody\",\"everyone\",\"everything\",\"everywhere\",\"ex\",\"exactly\",\"example\",\"except\",\"f\",\"face\",\"faces\",\"fact\",\"facts\",\"fairly\",\"far\",\"farther\",\"felt\",\"few\",\"fewer\",\"ff\",\"fi\",\"fifteen\",\"fifth\",\"fifty\",\"fify\",\"fill\",\"find\",\"finds\",\"fire\",\"first\",\"five\",\"fix\",\"fj\",\"fk\",\"fm\",\"fo\",\"followed\",\"following\",\"follows\",\"for\",\"forever\",\"former\",\"formerly\",\"forth\",\"forty\",\"forward\",\"found\",\"four\",\"fr\",\"free\",\"from\",\"front\",\"full\",\"fully\",\"further\",\"furthered\",\"furthering\",\"furthermore\",\"furthers\",\"fx\",\"g\",\"ga\",\"gave\",\"gb\",\"gd\",\"ge\",\"general\",\"generally\",\"get\",\"gets\",\"getting\",\"gf\",\"gg\",\"gh\",\"gi\",\"give\",\"given\",\"gives\",\"giving\",\"gl\",\"gm\",\"gmt\",\"gn\",\"go\",\"goes\",\"going\",\"gone\",\"good\",\"goods\",\"got\",\"gotten\",\"gov\",\"gp\",\"gq\",\"gr\",\"great\",\"greater\",\"greatest\",\"greetings\",\"group\",\"grouped\",\"grouping\",\"groups\",\"gs\",\"gt\",\"gu\",\"gw\",\"gy\",\"h\",\"had\",\"hadn't\",\"hadnt\",\"half\",\"happens\",\"hardly\",\"has\",\"hasn\",\"hasn't\",\"hasnt\",\"have\",\"haven\",\"haven't\",\"havent\",\"having\",\"he\",\"he'd\",\"he'll\",\"he's\",\"hed\",\"hell\",\"hello\",\"help\",\"hence\",\"her\",\"here\",\"here's\",\"hereafter\",\"hereby\",\"herein\",\"heres\",\"hereupon\",\"hers\",\"herself\",\"herse”\",\"hes\",\"hi\",\"hid\",\"high\",\"higher\",\"highest\",\"him\",\"himself\",\"himse”\",\"his\",\"hither\",\"hk\",\"hm\",\"hn\",\"home\",\"homepage\",\"hopefully\",\"how\",\"how'd\",\"how'll\",\"how's\",\"howbeit\",\"however\",\"hr\",\"ht\",\"htm\",\"html\",\"http\",\"hu\",\"hundred\",\"i\",\"i'd\",\"i'll\",\"i'm\",\"i've\",\"i.e.\",\"id\",\"ie\",\"if\",\"ignored\",\"ii\",\"il\",\"ill\",\"im\",\"immediate\",\"immediately\",\"importance\",\"important\",\"in\",\"inasmuch\",\"inc\",\"inc.\",\"indeed\",\"index\",\"indicate\",\"indicated\",\"indicates\",\"information\",\"inner\",\"inside\",\"insofar\",\"instead\",\"int\",\"interest\",\"interested\",\"interesting\",\"interests\",\"into\",\"invention\",\"inward\",\"io\",\"iq\",\"ir\",\"is\",\"isn\",\"isn't\",\"isnt\",\"it\",\"it'd\",\"it'll\",\"it's\",\"itd\",\"itll\",\"its\",\"itself\",\"itse”\",\"ive\",\"j\",\"je\",\"jm\",\"jo\",\"join\",\"jp\",\"just\",\"k\",\"ke\",\"keep\",\"keeps\",\"kept\",\"keys\",\"kg\",\"kh\",\"ki\",\"kind\",\"km\",\"kn\",\"knew\",\"know\",\"known\",\"knows\",\"kp\",\"kr\",\"kw\",\"ky\",\"kz\",\"l\",\"la\",\"large\",\"largely\",\"last\",\"lately\",\"later\",\"latest\",\"latter\",\"latterly\",\"lb\",\"lc\",\"least\",\"length\",\"less\",\"lest\",\"let\",\"let's\",\"lets\",\"li\",\"like\",\"liked\",\"likely\",\"likewise\",\"line\",\"little\",\"lk\",\"ll\",\"long\",\"longer\",\"longest\",\"look\",\"looking\",\"looks\",\"low\",\"lower\",\"lr\",\"ls\",\"lt\",\"ltd\",\"lu\",\"lv\",\"ly\",\"m\",\"ma\",\"made\",\"mainly\",\"make\",\"makes\",\"making\",\"man\",\"many\",\"may\",\"maybe\",\"mayn't\",\"maynt\",\"mc\",\"md\",\"me\",\"mean\",\"means\",\"meantime\",\"meanwhile\",\"member\",\"members\",\"men\",\"merely\",\"mg\",\"mh\",\"microsoft\",\"might\",\"might've\",\"mightn't\",\"mightnt\",\"mil\",\"mill\",\"million\",\"mine\",\"minus\",\"miss\",\"mk\",\"ml\",\"mm\",\"mn\",\"mo\",\"more\",\"moreover\",\"most\",\"mostly\",\"move\",\"mp\",\"mq\",\"mr\",\"mrs\",\"ms\",\"msie\",\"mt\",\"mu\",\"much\",\"mug\",\"must\",\"must've\",\"mustn't\",\"mustnt\",\"mv\",\"mw\",\"mx\",\"my\",\"myself\",\"myse”\",\"mz\",\"n\",\"na\",\"name\",\"namely\",\"nay\",\"nc\",\"nd\",\"ne\",\"near\",\"nearly\",\"necessarily\",\"necessary\",\"need\",\"needed\",\"needing\",\"needn't\",\"neednt\",\"needs\",\"neither\",\"net\",\"netscape\",\"never\",\"neverf\",\"neverless\",\"nevertheless\",\"new\",\"newer\",\"newest\",\"next\",\"nf\",\"ng\",\"ni\",\"nine\",\"ninety\",\"nl\",\"no\",\"no-one\",\"nobody\",\"non\",\"none\",\"nonetheless\",\"noone\",\"nor\",\"normally\",\"nos\",\"not\",\"noted\",\"nothing\",\"notwithstanding\",\"novel\",\"now\",\"nowhere\",\"np\",\"nr\",\"nu\",\"null\",\"number\",\"numbers\",\"nz\",\"o\",\"obtain\",\"obtained\",\"obviously\",\"of\",\"off\",\"often\",\"oh\",\"ok\",\"okay\",\"old\",\"older\",\"oldest\",\"om\",\"omitted\",\"on\",\"once\",\"one\",\"one's\",\"ones\",\"only\",\"onto\",\"open\",\"opened\",\"opening\",\"opens\",\"opposite\",\"or\",\"ord\",\"order\",\"ordered\",\"ordering\",\"orders\",\"org\",\"other\",\"others\",\"otherwise\",\"ought\",\"oughtn't\",\"oughtnt\",\"our\",\"ours\",\"ourselves\",\"out\",\"outside\",\"over\",\"overall\",\"owing\",\"own\",\"p\",\"pa\",\"page\",\"pages\",\"part\",\"parted\",\"particular\",\"particularly\",\"parting\",\"parts\",\"past\",\"pe\",\"per\",\"perhaps\",\"pf\",\"pg\",\"ph\",\"pk\",\"pl\",\"place\",\"placed\",\"places\",\"please\",\"plus\",\"pm\",\"pmid\",\"pn\",\"point\",\"pointed\",\"pointing\",\"points\",\"poorly\",\"possible\",\"possibly\",\"potentially\",\"pp\",\"pr\",\"predominantly\",\"present\",\"presented\",\"presenting\",\"presents\",\"presumably\",\"previously\",\"primarily\",\"probably\",\"problem\",\"problems\",\"promptly\",\"proud\",\"provided\",\"provides\",\"pt\",\"put\",\"puts\",\"pw\",\"py\",\"q\",\"qa\",\"que\",\"quickly\",\"quite\",\"qv\",\"r\",\"ran\",\"rather\",\"rd\",\"re\",\"readily\",\"really\",\"reasonably\",\"recent\",\"recently\",\"ref\",\"refs\",\"regarding\",\"regardless\",\"regards\",\"related\",\"relatively\",\"research\",\"reserved\",\"respectively\",\"resulted\",\"resulting\",\"results\",\"right\",\"ring\",\"ro\",\"room\",\"rooms\",\"round\",\"ru\",\"run\",\"rw\",\"s\",\"sa\",\"said\",\"same\",\"saw\",\"say\",\"saying\",\"says\",\"sb\",\"sc\",\"sd\",\"se\",\"sec\",\"second\",\"secondly\",\"seconds\",\"section\",\"see\",\"seeing\",\"seem\",\"seemed\",\"seeming\",\"seems\",\"seen\",\"sees\",\"self\",\"selves\",\"sensible\",\"sent\",\"serious\",\"seriously\",\"seven\",\"seventy\",\"several\",\"sg\",\"sh\",\"shall\",\"shan't\",\"shant\",\"she\",\"she'd\",\"she'll\",\"she's\",\"shed\",\"shell\",\"shes\",\"should\",\"should've\",\"shouldn\",\"shouldn't\",\"shouldnt\",\"show\",\"showed\",\"showing\",\"shown\",\"showns\",\"shows\",\"si\",\"side\",\"sides\",\"significant\",\"significantly\",\"similar\",\"similarly\",\"since\",\"sincere\",\"site\",\"six\",\"sixty\",\"sj\",\"sk\",\"sl\",\"slightly\",\"sm\",\"small\",\"smaller\",\"smallest\",\"sn\",\"so\",\"some\",\"somebody\",\"someday\",\"somehow\",\"someone\",\"somethan\",\"something\",\"sometime\",\"sometimes\",\"somewhat\",\"somewhere\",\"soon\",\"sorry\",\"specifically\",\"specified\",\"specify\",\"specifying\",\"sr\",\"st\",\"state\",\"states\",\"still\",\"stop\",\"strongly\",\"su\",\"sub\",\"substantially\",\"successfully\",\"such\",\"sufficiently\",\"suggest\",\"sup\",\"sure\",\"sv\",\"sy\",\"system\",\"sz\",\"t\",\"t's\",\"take\",\"taken\",\"taking\",\"tc\",\"td\",\"tell\",\"ten\",\"tends\",\"test\",\"text\",\"tf\",\"tg\",\"th\",\"than\",\"thank\",\"thanks\",\"thanx\",\"that\",\"that'll\",\"that's\",\"that've\",\"thatll\",\"thats\",\"thatve\",\"the\",\"their\",\"theirs\",\"them\",\"themselves\",\"then\",\"thence\",\"there\",\"there'd\",\"there'll\",\"there're\",\"there's\",\"there've\",\"thereafter\",\"thereby\",\"thered\",\"therefore\",\"therein\",\"therell\",\"thereof\",\"therere\",\"theres\",\"thereto\",\"thereupon\",\"thereve\",\"these\",\"they\",\"they'd\",\"they'll\",\"they're\",\"they've\",\"theyd\",\"theyll\",\"theyre\",\"theyve\",\"thick\",\"thin\",\"thing\",\"things\",\"think\",\"thinks\",\"third\",\"thirty\",\"this\",\"thorough\",\"thoroughly\",\"those\",\"thou\",\"though\",\"thoughh\",\"thought\",\"thoughts\",\"thousand\",\"three\",\"throug\",\"through\",\"throughout\",\"thru\",\"thus\",\"til\",\"till\",\"tip\",\"tis\",\"tj\",\"tk\",\"tm\",\"tn\",\"to\",\"today\",\"together\",\"too\",\"took\",\"top\",\"toward\",\"towards\",\"tp\",\"tr\",\"tried\",\"tries\",\"trillion\",\"truly\",\"try\",\"trying\",\"ts\",\"tt\",\"turn\",\"turned\",\"turning\",\"turns\",\"tv\",\"tw\",\"twas\",\"twelve\",\"twenty\",\"twice\",\"two\",\"tz\",\"u\",\"ua\",\"ug\",\"uk\",\"um\",\"un\",\"under\",\"underneath\",\"undoing\",\"unfortunately\",\"unless\",\"unlike\",\"unlikely\",\"until\",\"unto\",\"up\",\"upon\",\"ups\",\"upwards\",\"us\",\"use\",\"used\",\"useful\",\"usefully\",\"usefulness\",\"uses\",\"using\",\"usually\",\"uucp\",\"uy\",\"uz\",\"v\",\"va\",\"value\",\"various\",\"vc\",\"ve\",\"versus\",\"very\",\"vg\",\"vi\",\"via\",\"viz\",\"vn\",\"vol\",\"vols\",\"vs\",\"vu\",\"w\",\"want\",\"wanted\",\"wanting\",\"wants\",\"was\",\"wasn\",\"wasn't\",\"wasnt\",\"way\",\"ways\",\"we\",\"we'd\",\"we'll\",\"we're\",\"we've\",\"web\",\"webpage\",\"website\",\"wed\",\"welcome\",\"well\",\"wells\",\"went\",\"were\",\"weren\",\"weren't\",\"werent\",\"weve\",\"wf\",\"what\",\"what'd\",\"what'll\",\"what's\",\"what've\",\"whatever\",\"whatll\",\"whats\",\"whatve\",\"when\",\"when'd\",\"when'll\",\"when's\",\"whence\",\"whenever\",\"where\",\"where'd\",\"where'll\",\"where's\",\"whereafter\",\"whereas\",\"whereby\",\"wherein\",\"wheres\",\"whereupon\",\"wherever\",\"whether\",\"which\",\"whichever\",\"while\",\"whilst\",\"whim\",\"whither\",\"who\",\"who'd\",\"who'll\",\"who's\",\"whod\",\"whoever\",\"whole\",\"wholl\",\"whom\",\"whomever\",\"whos\",\"whose\",\"why\",\"why'd\",\"why'll\",\"why's\",\"widely\",\"width\",\"will\",\"willing\",\"wish\",\"with\",\"within\",\"without\",\"won\",\"won't\",\"wonder\",\"wont\",\"words\",\"work\",\"worked\",\"working\",\"works\",\"world\",\"would\",\"would've\",\"wouldn\",\"wouldn't\",\"wouldnt\",\"ws\",\"www\",\"x\",\"y\",\"ye\",\"year\",\"years\",\"yes\",\"yet\",\"you\",\"you'd\",\"you'll\",\"you're\",\"you've\",\"youd\",\"youll\",\"young\",\"younger\",\"youngest\",\"your\",\"youre\",\"yours\",\"yourself\",\"yourselves\",\"youve\",\"yt\",\"yu\",\"z\",\"za\",\"zero\",\"zm\",\"zr\"\n",
    "      \n",
    "}"
   ]
  },
  {
   "cell_type": "markdown",
   "metadata": {},
   "source": [
    "<div style=\"font-size: 20px; color: white;\">\n",
    "    <ul>\n",
    "        In this function, we will;\n",
    "        <li> Convert texts to the lowercases and split them.\n",
    "        <li> Eliminate the tokens from stopwords.\n",
    "        <li> Split tokens to bigram and unigrams.\n",
    "</div>"
   ]
  },
  {
   "cell_type": "code",
   "execution_count": 97,
   "metadata": {},
   "outputs": [],
   "source": [
    "def tokenize(text, ngram_range=(1, 2), stop_words=stop_words):\n",
    "    tokens = text.lower().split()  # Converting texts to the lower cases and splitting \n",
    "    tokens = [token for token in tokens if token not in stop_words]  # Eliminate the stopwords\n",
    "    unigrams = tokens\n",
    "    \n",
    "    bigrams = []\n",
    "    for i in range(len(tokens) - 1):\n",
    "        bigram = tokens[i] + ' ' + tokens[i + 1]\n",
    "        bigrams.append(bigram)\n",
    "        ngrams = []\n",
    "\n",
    "    if 1 in ngram_range:\n",
    "        ngrams += unigrams  # Add to the unigrams\n",
    "    if 2 in ngram_range:\n",
    "        ngrams += bigrams  # Add to the bigrams\n",
    "    return ngrams"
   ]
  },
  {
   "cell_type": "markdown",
   "metadata": {},
   "source": [
    "Checking that if tokenize function is working."
   ]
  },
  {
   "cell_type": "code",
   "execution_count": 98,
   "metadata": {},
   "outputs": [
    {
     "name": "stdout",
     "output_type": "stream",
     "text": [
      "['bromwell', 'cartoon', 'comedy.', 'time', 'programs', 'school', 'life,', '\"teachers\".', '35', 'teaching', 'profession', 'lead', 'bromwell', \"high's\", 'satire', 'closer', 'reality', '\"teachers\".', 'scramble', 'survive', 'financially,', 'insightful', 'students', 'pathetic', \"teachers'\", 'pomp,', 'pettiness', 'situation,', 'remind', 'schools', 'students.', 'episode', 'student', 'repeatedly', 'burn', 'school,', 'recalled', '.........', '..........', 'high.', 'classic', 'line:', 'inspector:', 'sack', 'teachers.', 'student:', 'bromwell', 'high.', 'expect', 'adults', 'age', 'bromwell', 'fetched.', 'pity', \"isn't!\", 'bromwell cartoon', 'cartoon comedy.', 'comedy. time', 'time programs', 'programs school', 'school life,', 'life, \"teachers\".', '\"teachers\". 35', '35 teaching', 'teaching profession', 'profession lead', 'lead bromwell', \"bromwell high's\", \"high's satire\", 'satire closer', 'closer reality', 'reality \"teachers\".', '\"teachers\". scramble', 'scramble survive', 'survive financially,', 'financially, insightful', 'insightful students', 'students pathetic', \"pathetic teachers'\", \"teachers' pomp,\", 'pomp, pettiness', 'pettiness situation,', 'situation, remind', 'remind schools', 'schools students.', 'students. episode', 'episode student', 'student repeatedly', 'repeatedly burn', 'burn school,', 'school, recalled', 'recalled .........', '......... ..........', '.......... high.', 'high. classic', 'classic line:', 'line: inspector:', 'inspector: sack', 'sack teachers.', 'teachers. student:', 'student: bromwell', 'bromwell high.', 'high. expect', 'expect adults', 'adults age', 'age bromwell', 'bromwell fetched.', 'fetched. pity', \"pity isn't!\"]\n",
      "9\n"
     ]
    }
   ],
   "source": [
    "text = train_pos_texts[0]\n",
    "\n",
    "# Tokenize fonksiyonunu kullan\n",
    "ngrams = tokenize(text, ngram_range=(1, 2))\n",
    "\n",
    "# Sonucu yazdır\n",
    "print(ngrams)\n",
    "print(train_pos_ratings[0])"
   ]
  },
  {
   "cell_type": "markdown",
   "metadata": {},
   "source": [
    "<div style=\"font-size: 20px; color: white;\">\n",
    "    <ul>\n",
    "        This function is for counting the word numbers and their keys with creating dictionaries.<br>\n",
    "        It is also creating the word list which contains all words. <br>\n",
    "        It starts with:\n",
    "         <li> Creating the dictionaries and the count variables.\n",
    "         <li> Iterating over all texts and ratings.\n",
    "         <li> Tokenazing the text with using previously defined function.\n",
    "         <li> Splitting over ratings and doingn the necessarily processes.\n",
    "         <li> Apply initial value with laplace smoothing.\n",
    "         <li> Combine unique words from both dictionaries\n",
    "</div>"
   ]
  },
  {
   "cell_type": "code",
   "execution_count": 99,
   "metadata": {},
   "outputs": [],
   "source": [
    "def create_dictionary(train_texts, train_ratings):\n",
    "    laplace = 1  # for Laplace smoothing, initial increment\n",
    "    pos_counts = {}\n",
    "    neg_counts = {}\n",
    "    pos_total = 0\n",
    "    neg_total = 0\n",
    "\n",
    "    for text, rating in zip(train_texts, train_ratings):\n",
    "        tokens = tokenize(text)  # Tokenize the review text\n",
    "        token_count = len(tokens)  # Compute the token length once\n",
    "\n",
    "        # Choose the counts dictionary and total based on rating\n",
    "        if rating > 5:  # Positive rating\n",
    "            counts_dict = pos_counts\n",
    "            pos_total += token_count\n",
    "        else:  # Negative rating\n",
    "            counts_dict = neg_counts\n",
    "            neg_total += token_count\n",
    "\n",
    "        # Update counts with Laplace smoothing\n",
    "        for token in tokens:\n",
    "            if token in counts_dict:\n",
    "                counts_dict[token] += 1\n",
    "            else:\n",
    "                counts_dict[token] = laplace  # Initial value with Laplace smoothing\n",
    "\n",
    "    # Combine unique words from both dictionaries\n",
    "    word_list = list(set(pos_counts.keys()).union(set(neg_counts.keys())))\n",
    "\n",
    "    return pos_counts, neg_counts, pos_total, neg_total, word_list\n"
   ]
  },
  {
   "cell_type": "markdown",
   "metadata": {},
   "source": [
    "<div style=\"font-size: 20px; color: white;\">\n",
    "    <ul>\n",
    "        Using logarithmic probabilities instead of the raw format as it may cause numerical underflow.<br>\n",
    "        Note: Multiplication is addition in logarithmic domain according to the log(a*b)=log(a)+log(b) equation.<br><br>\n",
    "        If the word is not in the word_list, then apply Laplace smoothing\n",
    "</div>"
   ]
  },
  {
   "cell_type": "code",
   "execution_count": 100,
   "metadata": {},
   "outputs": [],
   "source": [
    "# Calculate log-probabilities \n",
    "def calculate_probabilities(text, pos_counts, neg_counts, pos_total, neg_total, word_list):\n",
    "    tokens = tokenize(text)  # tokenize\n",
    "    pos_prob = 0\n",
    "    neg_prob = 0\n",
    "    list_size = len(word_list)  \n",
    "    \n",
    "    for token in tokens:\n",
    "        # If the word is not in the word_list, then apply Laplace smoothing\n",
    "        pos_prob += math.log((pos_counts.get(token, 0) + 1) / (pos_total + list_size))\n",
    "        neg_prob += math.log((neg_counts.get(token, 0) + 1) / (neg_total + list_size))\n",
    "\n",
    "    return pos_prob, neg_prob"
   ]
  },
  {
   "cell_type": "markdown",
   "metadata": {},
   "source": [
    "<div style=\"font-size: 20px; color: white;\">\n",
    "    <ul>\n",
    "        Easiest function to understand, just getting the probabilities using \"calculate_probabilities\" function and make predictions.\n",
    "</div>"
   ]
  },
  {
   "cell_type": "code",
   "execution_count": 101,
   "metadata": {},
   "outputs": [],
   "source": [
    "def predict(texts, pos_counts, neg_counts, pos_total, neg_total, word_list):\n",
    "    predictions = []  # To store predictions for each text\n",
    "    for text in texts:\n",
    "        pos_prob, neg_prob = calculate_probabilities(text, pos_counts, neg_counts, pos_total, neg_total, word_list)\n",
    "        \n",
    "        # Compare probabilities\n",
    "        if pos_prob > neg_prob:\n",
    "            predictions.append(\"Positive\")  # Predict positive\n",
    "        else:\n",
    "            predictions.append(\"Negative\")  # Predict negative\n",
    "\n",
    "    return predictions"
   ]
  },
  {
   "cell_type": "markdown",
   "metadata": {},
   "source": [
    "<div style=\"font-size: 20px; color: white;\">\n",
    "    <ul>\n",
    "        These 2 functions are converting the test_ratings and predictions into correct form:<BR><br>\n",
    "        \"test_ratings\" contains ratings of the test dataset's so it has 9, 7, 3, 8 type of integers. Using \"convert_rating\" function, converting to 1 if rating is above 5, converting it to 0 if rating is below 5.<br><br>\n",
    "        \"predictions\" is a set of texts. it has the texts of if class is \"Positive\" or \"Negative\". Using map_labels function, converting Positives to 1, Negatives to 0.\n",
    "\n",
    "</div>"
   ]
  },
  {
   "cell_type": "code",
   "execution_count": 102,
   "metadata": {},
   "outputs": [],
   "source": [
    "def map_labels(labels):\n",
    "    return np.array([1 if label == 'Positive' else 0 for label in labels])  # Convert to numpy array\n",
    "\n",
    "def convert_rating(labels):\n",
    "    return np.array([1 if label > 5 else 0 for label in labels])  # Convert to numpy array\n"
   ]
  },
  {
   "cell_type": "markdown",
   "metadata": {},
   "source": [
    "<div style=\"font-size: 20px; color: white;\">\n",
    "    <ul>\n",
    "        This was my \"Assignment1's\" calculate_metrics function that I wrote but added the converting functions above and also with f1 score update.\n",
    "</div>"
   ]
  },
  {
   "cell_type": "code",
   "execution_count": 103,
   "metadata": {},
   "outputs": [],
   "source": [
    "def calculate_metrics(y_true, y_pred):\n",
    "    # Map labels to integers for consistency\n",
    "    y_true = convert_rating(y_true)\n",
    "    y_pred = map_labels(y_pred)\n",
    "\n",
    "    all_classes = np.array([0, 1])  # All classes: 0 For Negative, 1 for Positive\n",
    "     \n",
    "    # For calculating Accuracy\n",
    "    total_correct = np.sum(y_true == y_pred)\n",
    "    total_instances = len(y_true)\n",
    "    accuracy = total_correct / total_instances\n",
    "\n",
    "    # Precision, Recall ve F1 calculations\n",
    "    precision_per_class = {}\n",
    "    recall_per_class = {}\n",
    "    f1_per_class = {}\n",
    "    \n",
    "    for c in all_classes:  # Loop will iterate twice; for class 0 and 1.\n",
    "        TP = np.sum((y_true == c) & (y_pred == c))\n",
    "        FP = np.sum((y_true != c) & (y_pred == c))\n",
    "        FN = np.sum((y_true == c) & (y_pred != c))\n",
    "\n",
    "        precision_per_class[c] = TP / (TP + FP) if (TP + FP) > 0 else 0\n",
    "        recall_per_class[c] = TP / (TP + FN) if (TP + FN) > 0 else 0\n",
    "        f1_per_class[c] = (\n",
    "            2 * (precision_per_class[c] * recall_per_class[c]) /\n",
    "            (precision_per_class[c] + recall_per_class[c]) if (precision_per_class[c] + recall_per_class[c]) > 0 else 0\n",
    "        )\n",
    "\n",
    "    # Getting the Average of both classes\n",
    "    avg_precision = np.mean(list(precision_per_class.values()))\n",
    "    avg_recall = np.mean(list(recall_per_class.values()))\n",
    "    avg_f1 = np.mean(list(f1_per_class.values()))\n",
    "\n",
    "    for c in all_classes:\n",
    "        print(f\"Class {c} - Precision: {precision_per_class[c]}, Recall: {recall_per_class[c]}, F1: {f1_per_class[c]}\")\n",
    "\n",
    "    return accuracy, avg_precision, avg_recall, avg_f1\n"
   ]
  },
  {
   "cell_type": "markdown",
   "metadata": {},
   "source": [
    "<div style=\"font-size: 20px; color: white;\">\n",
    "    <ul>\n",
    "        This is the part that we use create_dictionary function.\n",
    "        \n",
    "</div>"
   ]
  },
  {
   "cell_type": "code",
   "execution_count": 104,
   "metadata": {},
   "outputs": [],
   "source": [
    "pos_counts, neg_counts, pos_total, neg_total, word_list = create_dictionary(train_texts, train_ratings)"
   ]
  },
  {
   "cell_type": "code",
   "execution_count": 105,
   "metadata": {},
   "outputs": [],
   "source": [
    "# Predict on the test data\n",
    "\n",
    "predictions = predict(test_texts, pos_counts, neg_counts, pos_total, neg_total, word_list)\n"
   ]
  },
  {
   "cell_type": "code",
   "execution_count": 106,
   "metadata": {},
   "outputs": [
    {
     "name": "stdout",
     "output_type": "stream",
     "text": [
      "Class 0 - Precision: 0.8041103765449842, Recall: 0.8952, F1: 0.847213809812235\n",
      "Class 1 - Precision: 0.8818116203536629, Recall: 0.78192, F1: 0.828867028493894\n",
      "Accuracy: 0.83856\n",
      "Average Precision: 0.8429609984493236\n",
      "Average Recall: 0.83856\n",
      "Average F1 Score: 0.8380404191530646\n"
     ]
    }
   ],
   "source": [
    "\n",
    "accuracy, avg_precision, avg_recall, avg_f1 = calculate_metrics(test_ratings, predictions)\n",
    "\n",
    "print(\"Accuracy:\", accuracy)\n",
    "print(\"Average Precision:\", avg_precision)\n",
    "print(\"Average Recall:\", avg_recall)\n",
    "print(\"Average F1 Score:\", avg_f1)\n",
    "\n",
    "\n"
   ]
  },
  {
   "cell_type": "markdown",
   "metadata": {},
   "source": [
    "<div style=\"font-size: 30px; color: white;\">\n",
    "    <ul>\n",
    "        ACCURACY: %83.86\n",
    "</div>"
   ]
  },
  {
   "cell_type": "markdown",
   "metadata": {},
   "source": [
    "<div style=\"font-size: 20px; color: white;\">\n",
    "    <ul>\n",
    "        Now, I want to check my accuracy with applying cross validation.<br><br>\n",
    "        Cross-validation is a technique used to test the general performance of a model by splitting the data into k folds, using each fold as a test set while the remaining data is used for training.\n",
    "</div>"
   ]
  },
  {
   "cell_type": "code",
   "execution_count": 109,
   "metadata": {},
   "outputs": [],
   "source": [
    "def cross_validation(x, y, k=5):\n",
    "\n",
    "    indices = np.arange(len(y))\n",
    "    np.random.shuffle(indices)\n",
    "    x, y = x[indices], y[indices]\n",
    "\n",
    "    fold_size = len(y) // k\n",
    "    accuracies = []\n",
    "\n",
    "    for i in range(k):\n",
    "        # Splitting the data to k folds.\n",
    "        start = i * fold_size\n",
    "        end = (i + 1) * fold_size\n",
    "\n",
    "        x_test = x[start:end]\n",
    "        y_test = y[start:end]\n",
    "\n",
    "        x_train = np.concatenate([x[:start], x[end:]])\n",
    "        y_train = np.concatenate([y[:start], y[end:]])\n",
    "\n",
    "        # Training model\n",
    "        pos_counts, neg_counts, pos_total, neg_total, word_list = create_dictionary(x_train, y_train)\n",
    "        \n",
    "        # Predict\n",
    "        predictions = predict(x_test, pos_counts, neg_counts, pos_total, neg_total, word_list)\n",
    "\n",
    "        # Just taking the accuracy from calculate_metrics function\n",
    "        accuracy, _, _, _ = calculate_metrics(y_test, predictions)\n",
    "        accuracies.append(accuracy)\n",
    "        print(\"Accuracy for k = \", i+1, \" is: \", accuracy)\n",
    "        print(\"-----------------------------------------------------------------------------------\")\n",
    "    \n",
    "    # Returning Average Accuracy\n",
    "    avg_accuracy = np.mean(accuracies)\n",
    "    print(f\"Average Accuracy over {k} folds:\", avg_accuracy)\n",
    "    return avg_accuracy"
   ]
  },
  {
   "cell_type": "code",
   "execution_count": 111,
   "metadata": {},
   "outputs": [
    {
     "name": "stdout",
     "output_type": "stream",
     "text": [
      "Class 0 - Precision: 0.8427265803503428, Recall: 0.8869739478957915, F1: 0.8642843194688539\n",
      "Class 1 - Precision: 0.8812131423757371, Recall: 0.835129740518962, F1: 0.8575527772084444\n",
      "Accuracy for k =  1  is:  0.861\n",
      "-----------------------------------------------------------------------------------\n",
      "Class 0 - Precision: 0.8534416086620263, Recall: 0.885989562424729, F1: 0.8694110695292496\n",
      "Class 1 - Precision: 0.8823529411764706, Recall: 0.848943802311678, F1: 0.8653260207190737\n",
      "Accuracy for k =  2  is:  0.8674\n",
      "-----------------------------------------------------------------------------------\n",
      "Class 0 - Precision: 0.8676582761250954, Recall: 0.8928571428571429, F1: 0.8800773694390716\n",
      "Class 1 - Precision: 0.8851976450798991, Recall: 0.8584828711256117, F1: 0.8716356107660456\n",
      "Accuracy for k =  3  is:  0.876\n",
      "-----------------------------------------------------------------------------------\n",
      "Class 0 - Precision: 0.8539196940726578, Recall: 0.8892871365989645, F1: 0.871244635193133\n",
      "Class 1 - Precision: 0.8834381551362683, Recall: 0.8465247087183608, F1: 0.8645876077144029\n",
      "Accuracy for k =  4  is:  0.868\n",
      "-----------------------------------------------------------------------------------\n",
      "Class 0 - Precision: 0.851508120649652, Recall: 0.8969450101832994, F1: 0.8736361832969648\n",
      "Class 1 - Precision: 0.8951946975973488, Recall: 0.8491159135559921, F1: 0.8715466827989514\n",
      "Accuracy for k =  5  is:  0.8726\n",
      "-----------------------------------------------------------------------------------\n",
      "Average Accuracy over 5 folds: 0.869\n"
     ]
    }
   ],
   "source": [
    "x = np.array(train_texts)   # texts\n",
    "y = np.array(train_ratings) # ratings\n",
    "\n",
    "k = 5  # I Chose k = 5.\n",
    "average_accuracy = cross_validate(x, y)"
   ]
  },
  {
   "cell_type": "markdown",
   "metadata": {},
   "source": [
    "<div style=\"font-size: 30px; color: white;\">\n",
    "    <ul>\n",
    "        ACCURACY OF CV: %86.9\n",
    "</div>"
   ]
  },
  {
   "cell_type": "markdown",
   "metadata": {},
   "source": [
    "<div style=\"font-size: 30px; color: white;\">\n",
    "    <ul>\n",
    "        CONCLUSION:\n",
    "</div>"
   ]
  },
  {
   "cell_type": "markdown",
   "metadata": {},
   "source": [
    "<div style=\"font-size: 20px; color: white;\">\n",
    "    <ul>\n",
    "        In this assignment, I've made a text classification project using naive bayes algorithm on IMDB review dataset.<br><br>\n",
    "        First, I read the dataset and created the test and train data.<br>\n",
    "        Then, I visualized the data for better understanding. <br>\n",
    "        After that I defined a stopwords list and discarded the stopwords, tokenized the words as ngrams. <br>\n",
    "        After, I wrote create dictionary function and calculated these values: pos_counts, neg_counts, pos_total, neg_total, word_list.<br>\n",
    "        Then, wrote a calculation function and used it in predict function sowe can decide if we predict the data as positive or negative.<br>\n",
    "        Then I reused calculate_metrics function from my assignment 1 with some changes. So far, it was always creating the necessary functions.<br>\n",
    "        From now on, we will use these functions and see the result. First used the create_dictionary function, then used predict function and lastly, used calculate_metrics function to see the results.<br><br>\n",
    "        As it seems, the accuracy is %83.86. Which is quiet good. It is because the data is well distributed and there is no neutral prediction it is only positive and negative predictions. Also the dataset does not contains the ratings between 4-7 is better for the model's accuracy.<br>\n",
    "        The Accuracy when I applied K-Fold Cross Validation is %86.9. Even better result than the base accuracy.\n",
    "\n",
    "</div>"
   ]
  }
 ],
 "metadata": {
  "kernelspec": {
   "display_name": "Python 3",
   "language": "python",
   "name": "python3"
  },
  "language_info": {
   "codemirror_mode": {
    "name": "ipython",
    "version": 3
   },
   "file_extension": ".py",
   "mimetype": "text/x-python",
   "name": "python",
   "nbconvert_exporter": "python",
   "pygments_lexer": "ipython3",
   "version": "3.10.11"
  }
 },
 "nbformat": 4,
 "nbformat_minor": 2
}
